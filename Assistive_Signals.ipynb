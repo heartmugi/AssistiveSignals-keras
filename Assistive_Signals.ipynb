{
  "cells": [
    {
      "cell_type": "markdown",
      "metadata": {
        "id": "IpYgko9QarAK"
      },
      "source": [
        "# 準備"
      ]
    },
    {
      "cell_type": "markdown",
      "metadata": {
        "id": "pCaVa2R5bq_4"
      },
      "source": [
        "## artのインストール"
      ]
    },
    {
      "cell_type": "code",
      "execution_count": 1,
      "metadata": {
        "colab": {
          "base_uri": "https://localhost:8080/"
        },
        "id": "QoNsAnXUmgST",
        "outputId": "9355b859-7469-46e0-8afc-15b3114d1b95"
      },
      "outputs": [
        {
          "name": "stdout",
          "output_type": "stream",
          "text": [
            "Collecting adversarial-robustness-toolbox\n",
            "  Downloading adversarial_robustness_toolbox-1.8.1-py3-none-any.whl (1.1 MB)\n",
            "\u001b[?25l\r\u001b[K     |▎                               | 10 kB 13.2 MB/s eta 0:00:01\r\u001b[K     |▋                               | 20 kB 19.1 MB/s eta 0:00:01\r\u001b[K     |█                               | 30 kB 18.5 MB/s eta 0:00:01\r\u001b[K     |█▏                              | 40 kB 15.6 MB/s eta 0:00:01\r\u001b[K     |█▌                              | 51 kB 5.7 MB/s eta 0:00:01\r\u001b[K     |█▉                              | 61 kB 6.0 MB/s eta 0:00:01\r\u001b[K     |██                              | 71 kB 5.5 MB/s eta 0:00:01\r\u001b[K     |██▍                             | 81 kB 6.1 MB/s eta 0:00:01\r\u001b[K     |██▊                             | 92 kB 6.4 MB/s eta 0:00:01\r\u001b[K     |███                             | 102 kB 5.4 MB/s eta 0:00:01\r\u001b[K     |███▎                            | 112 kB 5.4 MB/s eta 0:00:01\r\u001b[K     |███▋                            | 122 kB 5.4 MB/s eta 0:00:01\r\u001b[K     |███▉                            | 133 kB 5.4 MB/s eta 0:00:01\r\u001b[K     |████▏                           | 143 kB 5.4 MB/s eta 0:00:01\r\u001b[K     |████▌                           | 153 kB 5.4 MB/s eta 0:00:01\r\u001b[K     |████▊                           | 163 kB 5.4 MB/s eta 0:00:01\r\u001b[K     |█████                           | 174 kB 5.4 MB/s eta 0:00:01\r\u001b[K     |█████▍                          | 184 kB 5.4 MB/s eta 0:00:01\r\u001b[K     |█████▋                          | 194 kB 5.4 MB/s eta 0:00:01\r\u001b[K     |██████                          | 204 kB 5.4 MB/s eta 0:00:01\r\u001b[K     |██████▎                         | 215 kB 5.4 MB/s eta 0:00:01\r\u001b[K     |██████▌                         | 225 kB 5.4 MB/s eta 0:00:01\r\u001b[K     |██████▉                         | 235 kB 5.4 MB/s eta 0:00:01\r\u001b[K     |███████▏                        | 245 kB 5.4 MB/s eta 0:00:01\r\u001b[K     |███████▍                        | 256 kB 5.4 MB/s eta 0:00:01\r\u001b[K     |███████▊                        | 266 kB 5.4 MB/s eta 0:00:01\r\u001b[K     |████████                        | 276 kB 5.4 MB/s eta 0:00:01\r\u001b[K     |████████▎                       | 286 kB 5.4 MB/s eta 0:00:01\r\u001b[K     |████████▋                       | 296 kB 5.4 MB/s eta 0:00:01\r\u001b[K     |█████████                       | 307 kB 5.4 MB/s eta 0:00:01\r\u001b[K     |█████████▏                      | 317 kB 5.4 MB/s eta 0:00:01\r\u001b[K     |█████████▌                      | 327 kB 5.4 MB/s eta 0:00:01\r\u001b[K     |█████████▉                      | 337 kB 5.4 MB/s eta 0:00:01\r\u001b[K     |██████████                      | 348 kB 5.4 MB/s eta 0:00:01\r\u001b[K     |██████████▍                     | 358 kB 5.4 MB/s eta 0:00:01\r\u001b[K     |██████████▊                     | 368 kB 5.4 MB/s eta 0:00:01\r\u001b[K     |███████████                     | 378 kB 5.4 MB/s eta 0:00:01\r\u001b[K     |███████████▎                    | 389 kB 5.4 MB/s eta 0:00:01\r\u001b[K     |███████████▋                    | 399 kB 5.4 MB/s eta 0:00:01\r\u001b[K     |███████████▉                    | 409 kB 5.4 MB/s eta 0:00:01\r\u001b[K     |████████████▏                   | 419 kB 5.4 MB/s eta 0:00:01\r\u001b[K     |████████████▌                   | 430 kB 5.4 MB/s eta 0:00:01\r\u001b[K     |████████████▊                   | 440 kB 5.4 MB/s eta 0:00:01\r\u001b[K     |█████████████                   | 450 kB 5.4 MB/s eta 0:00:01\r\u001b[K     |█████████████▍                  | 460 kB 5.4 MB/s eta 0:00:01\r\u001b[K     |█████████████▋                  | 471 kB 5.4 MB/s eta 0:00:01\r\u001b[K     |██████████████                  | 481 kB 5.4 MB/s eta 0:00:01\r\u001b[K     |██████████████▎                 | 491 kB 5.4 MB/s eta 0:00:01\r\u001b[K     |██████████████▌                 | 501 kB 5.4 MB/s eta 0:00:01\r\u001b[K     |██████████████▉                 | 512 kB 5.4 MB/s eta 0:00:01\r\u001b[K     |███████████████▏                | 522 kB 5.4 MB/s eta 0:00:01\r\u001b[K     |███████████████▍                | 532 kB 5.4 MB/s eta 0:00:01\r\u001b[K     |███████████████▊                | 542 kB 5.4 MB/s eta 0:00:01\r\u001b[K     |████████████████                | 552 kB 5.4 MB/s eta 0:00:01\r\u001b[K     |████████████████▎               | 563 kB 5.4 MB/s eta 0:00:01\r\u001b[K     |████████████████▋               | 573 kB 5.4 MB/s eta 0:00:01\r\u001b[K     |█████████████████               | 583 kB 5.4 MB/s eta 0:00:01\r\u001b[K     |█████████████████▏              | 593 kB 5.4 MB/s eta 0:00:01\r\u001b[K     |█████████████████▌              | 604 kB 5.4 MB/s eta 0:00:01\r\u001b[K     |█████████████████▉              | 614 kB 5.4 MB/s eta 0:00:01\r\u001b[K     |██████████████████              | 624 kB 5.4 MB/s eta 0:00:01\r\u001b[K     |██████████████████▍             | 634 kB 5.4 MB/s eta 0:00:01\r\u001b[K     |██████████████████▊             | 645 kB 5.4 MB/s eta 0:00:01\r\u001b[K     |███████████████████             | 655 kB 5.4 MB/s eta 0:00:01\r\u001b[K     |███████████████████▎            | 665 kB 5.4 MB/s eta 0:00:01\r\u001b[K     |███████████████████▋            | 675 kB 5.4 MB/s eta 0:00:01\r\u001b[K     |███████████████████▉            | 686 kB 5.4 MB/s eta 0:00:01\r\u001b[K     |████████████████████▏           | 696 kB 5.4 MB/s eta 0:00:01\r\u001b[K     |████████████████████▌           | 706 kB 5.4 MB/s eta 0:00:01\r\u001b[K     |████████████████████▊           | 716 kB 5.4 MB/s eta 0:00:01\r\u001b[K     |█████████████████████           | 727 kB 5.4 MB/s eta 0:00:01\r\u001b[K     |█████████████████████▍          | 737 kB 5.4 MB/s eta 0:00:01\r\u001b[K     |█████████████████████▋          | 747 kB 5.4 MB/s eta 0:00:01\r\u001b[K     |██████████████████████          | 757 kB 5.4 MB/s eta 0:00:01\r\u001b[K     |██████████████████████▎         | 768 kB 5.4 MB/s eta 0:00:01\r\u001b[K     |██████████████████████▌         | 778 kB 5.4 MB/s eta 0:00:01\r\u001b[K     |██████████████████████▉         | 788 kB 5.4 MB/s eta 0:00:01\r\u001b[K     |███████████████████████▏        | 798 kB 5.4 MB/s eta 0:00:01\r\u001b[K     |███████████████████████▍        | 808 kB 5.4 MB/s eta 0:00:01\r\u001b[K     |███████████████████████▊        | 819 kB 5.4 MB/s eta 0:00:01\r\u001b[K     |████████████████████████        | 829 kB 5.4 MB/s eta 0:00:01\r\u001b[K     |████████████████████████▎       | 839 kB 5.4 MB/s eta 0:00:01\r\u001b[K     |████████████████████████▋       | 849 kB 5.4 MB/s eta 0:00:01\r\u001b[K     |█████████████████████████       | 860 kB 5.4 MB/s eta 0:00:01\r\u001b[K     |█████████████████████████▏      | 870 kB 5.4 MB/s eta 0:00:01\r\u001b[K     |█████████████████████████▌      | 880 kB 5.4 MB/s eta 0:00:01\r\u001b[K     |█████████████████████████▉      | 890 kB 5.4 MB/s eta 0:00:01\r\u001b[K     |██████████████████████████      | 901 kB 5.4 MB/s eta 0:00:01\r\u001b[K     |██████████████████████████▍     | 911 kB 5.4 MB/s eta 0:00:01\r\u001b[K     |██████████████████████████▊     | 921 kB 5.4 MB/s eta 0:00:01\r\u001b[K     |███████████████████████████     | 931 kB 5.4 MB/s eta 0:00:01\r\u001b[K     |███████████████████████████▎    | 942 kB 5.4 MB/s eta 0:00:01\r\u001b[K     |███████████████████████████▋    | 952 kB 5.4 MB/s eta 0:00:01\r\u001b[K     |████████████████████████████    | 962 kB 5.4 MB/s eta 0:00:01\r\u001b[K     |████████████████████████████▏   | 972 kB 5.4 MB/s eta 0:00:01\r\u001b[K     |████████████████████████████▌   | 983 kB 5.4 MB/s eta 0:00:01\r\u001b[K     |████████████████████████████▉   | 993 kB 5.4 MB/s eta 0:00:01\r\u001b[K     |█████████████████████████████   | 1.0 MB 5.4 MB/s eta 0:00:01\r\u001b[K     |█████████████████████████████▍  | 1.0 MB 5.4 MB/s eta 0:00:01\r\u001b[K     |█████████████████████████████▊  | 1.0 MB 5.4 MB/s eta 0:00:01\r\u001b[K     |██████████████████████████████  | 1.0 MB 5.4 MB/s eta 0:00:01\r\u001b[K     |██████████████████████████████▎ | 1.0 MB 5.4 MB/s eta 0:00:01\r\u001b[K     |██████████████████████████████▋ | 1.1 MB 5.4 MB/s eta 0:00:01\r\u001b[K     |██████████████████████████████▉ | 1.1 MB 5.4 MB/s eta 0:00:01\r\u001b[K     |███████████████████████████████▏| 1.1 MB 5.4 MB/s eta 0:00:01\r\u001b[K     |███████████████████████████████▌| 1.1 MB 5.4 MB/s eta 0:00:01\r\u001b[K     |███████████████████████████████▊| 1.1 MB 5.4 MB/s eta 0:00:01\r\u001b[K     |████████████████████████████████| 1.1 MB 5.4 MB/s \n",
            "\u001b[?25hRequirement already satisfied: scipy>=1.4.1 in /usr/local/lib/python3.7/dist-packages (from adversarial-robustness-toolbox) (1.4.1)\n",
            "Requirement already satisfied: tqdm in /usr/local/lib/python3.7/dist-packages (from adversarial-robustness-toolbox) (4.62.3)\n",
            "Requirement already satisfied: setuptools in /usr/local/lib/python3.7/dist-packages (from adversarial-robustness-toolbox) (57.4.0)\n",
            "Requirement already satisfied: scikit-learn<1.1.0,>=0.22.2 in /usr/local/lib/python3.7/dist-packages (from adversarial-robustness-toolbox) (1.0.1)\n",
            "Requirement already satisfied: six in /usr/local/lib/python3.7/dist-packages (from adversarial-robustness-toolbox) (1.15.0)\n",
            "Requirement already satisfied: numpy>=1.18.0 in /usr/local/lib/python3.7/dist-packages (from adversarial-robustness-toolbox) (1.19.5)\n",
            "Collecting numba>=0.53.1\n",
            "  Downloading numba-0.54.1-cp37-cp37m-manylinux2014_x86_64.manylinux_2_17_x86_64.whl (3.3 MB)\n",
            "\u001b[K     |████████████████████████████████| 3.3 MB 32.1 MB/s \n",
            "\u001b[?25hCollecting llvmlite<0.38,>=0.37.0rc1\n",
            "  Downloading llvmlite-0.37.0-cp37-cp37m-manylinux2014_x86_64.whl (26.3 MB)\n",
            "\u001b[K     |████████████████████████████████| 26.3 MB 3.7 MB/s \n",
            "\u001b[?25hRequirement already satisfied: joblib>=0.11 in /usr/local/lib/python3.7/dist-packages (from scikit-learn<1.1.0,>=0.22.2->adversarial-robustness-toolbox) (1.1.0)\n",
            "Requirement already satisfied: threadpoolctl>=2.0.0 in /usr/local/lib/python3.7/dist-packages (from scikit-learn<1.1.0,>=0.22.2->adversarial-robustness-toolbox) (3.0.0)\n",
            "Installing collected packages: llvmlite, numba, adversarial-robustness-toolbox\n",
            "  Attempting uninstall: llvmlite\n",
            "    Found existing installation: llvmlite 0.34.0\n",
            "    Uninstalling llvmlite-0.34.0:\n",
            "      Successfully uninstalled llvmlite-0.34.0\n",
            "  Attempting uninstall: numba\n",
            "    Found existing installation: numba 0.51.2\n",
            "    Uninstalling numba-0.51.2:\n",
            "      Successfully uninstalled numba-0.51.2\n",
            "Successfully installed adversarial-robustness-toolbox-1.8.1 llvmlite-0.37.0 numba-0.54.1\n"
          ]
        }
      ],
      "source": [
        "!pip3 install adversarial-robustness-toolbox"
      ]
    },
    {
      "cell_type": "markdown",
      "metadata": {
        "id": "Us1-UrOXaw87"
      },
      "source": [
        "## ライブラリのインポート"
      ]
    },
    {
      "cell_type": "code",
      "execution_count": 1,
      "metadata": {
        "id": "wF3Foi62mnPi"
      },
      "outputs": [],
      "source": [
        "import random\n",
        "import numpy as np\n",
        "import matplotlib.pyplot as plt\n",
        "\n",
        "# TensorFlow with Keras.\n",
        "import tensorflow as tf\n",
        "from tensorflow.keras.models import Model\n",
        "from tensorflow.keras.layers import Input, Dense, Flatten, Conv2D\n",
        "from tensorflow.keras.layers import MaxPooling2D, GlobalAveragePooling2D, Dropout\n",
        "tf.compat.v1.disable_eager_execution()\n",
        "\n",
        "# ART\n",
        "import art\n",
        "from art.attacks.evasion import FastGradientMethod\n",
        "from art.estimators.classification import KerasClassifier"
      ]
    },
    {
      "cell_type": "markdown",
      "metadata": {
        "id": "qsjVGzIwaz1c"
      },
      "source": [
        "## CIFAR10のロード・前処理"
      ]
    },
    {
      "cell_type": "code",
      "execution_count": 2,
      "metadata": {
        "colab": {
          "base_uri": "https://localhost:8080/"
        },
        "id": "NJn7yF4_mwM_",
        "outputId": "7227cbe6-2a39-491d-efa0-2b2fced3fecc"
      },
      "outputs": [],
      "source": [
        "# CIFAR10のロード。\n",
        "(X_train, y_train), (X_test, y_test) = tf.keras.datasets.cifar10.load_data()\n",
        "\n",
        "# CIFAR10のラベル。\n",
        "classes = ['airplane', 'automobile', 'bird', 'cat', 'deer', 'dog', 'frog', 'horse', 'ship', 'truck']\n",
        "num_classes = len(classes)"
      ]
    },
    {
      "cell_type": "code",
      "execution_count": 3,
      "metadata": {
        "id": "9zOnIFWanCRE"
      },
      "outputs": [],
      "source": [
        "# 正規化。\n",
        "X_train = X_train.astype('float32') / 255\n",
        "X_test = X_test.astype('float32') / 255\n",
        "\n",
        "# ラベルをOne-hot-vector化。\n",
        "y_train = tf.keras.utils.to_categorical(y_train, num_classes)\n",
        "y_test = tf.keras.utils.to_categorical(y_test, num_classes)"
      ]
    },
    {
      "cell_type": "markdown",
      "metadata": {
        "id": "BIh32W6raz6l"
      },
      "source": [
        "## 摂動を作るためのClassifierの作成\n",
        "\n"
      ]
    },
    {
      "cell_type": "markdown",
      "metadata": {
        "id": "VYm8pYF6btOr"
      },
      "source": [
        "### モデル定義"
      ]
    },
    {
      "cell_type": "code",
      "execution_count": 4,
      "metadata": {
        "colab": {
          "base_uri": "https://localhost:8080/"
        },
        "id": "GkhVRmdcnG4G",
        "outputId": "9d331bcc-1150-4cee-ae3d-5ebb0962a624"
      },
      "outputs": [
        {
          "name": "stdout",
          "output_type": "stream",
          "text": [
            "Model: \"model\"\n",
            "_________________________________________________________________\n",
            "Layer (type)                 Output Shape              Param #   \n",
            "=================================================================\n",
            "input_1 (InputLayer)         [(None, 32, 32, 3)]       0         \n",
            "_________________________________________________________________\n",
            "conv2d (Conv2D)              (None, 32, 32, 64)        1792      \n",
            "_________________________________________________________________\n",
            "conv2d_1 (Conv2D)            (None, 32, 32, 64)        36928     \n",
            "_________________________________________________________________\n",
            "dropout (Dropout)            (None, 32, 32, 64)        0         \n",
            "_________________________________________________________________\n",
            "max_pooling2d (MaxPooling2D) (None, 16, 16, 64)        0         \n",
            "_________________________________________________________________\n",
            "conv2d_2 (Conv2D)            (None, 16, 16, 128)       73856     \n",
            "_________________________________________________________________\n",
            "conv2d_3 (Conv2D)            (None, 16, 16, 128)       147584    \n",
            "_________________________________________________________________\n",
            "dropout_1 (Dropout)          (None, 16, 16, 128)       0         \n",
            "_________________________________________________________________\n",
            "max_pooling2d_1 (MaxPooling2 (None, 8, 8, 128)         0         \n",
            "_________________________________________________________________\n",
            "conv2d_4 (Conv2D)            (None, 8, 8, 256)         295168    \n",
            "_________________________________________________________________\n",
            "conv2d_5 (Conv2D)            (None, 8, 8, 256)         590080    \n",
            "_________________________________________________________________\n",
            "global_average_pooling2d (Gl (None, 256)               0         \n",
            "_________________________________________________________________\n",
            "dense (Dense)                (None, 1024)              263168    \n",
            "_________________________________________________________________\n",
            "dropout_2 (Dropout)          (None, 1024)              0         \n",
            "_________________________________________________________________\n",
            "dense_1 (Dense)              (None, 10)                10250     \n",
            "=================================================================\n",
            "Total params: 1,418,826\n",
            "Trainable params: 1,418,826\n",
            "Non-trainable params: 0\n",
            "_________________________________________________________________\n"
          ]
        }
      ],
      "source": [
        "# モデルの定義。\n",
        "def build_model():\n",
        "  inputs = Input(shape=(32, 32, 3))\n",
        "  x = Conv2D(64, (3, 3), padding='SAME', activation='relu')(inputs)\n",
        "  x = Conv2D(64, (3, 3), padding='SAME', activation='relu')(x)\n",
        "  x = Dropout(0.25)(x)\n",
        "  x = MaxPooling2D()(x)\n",
        "\n",
        "  x = Conv2D(128, (3,3), padding='SAME', activation='relu')(x)\n",
        "  x = Conv2D(128, (3,3), padding='SAME', activation='relu')(x)\n",
        "  x = Dropout(0.25)(x)\n",
        "  x = MaxPooling2D()(x)\n",
        "\n",
        "  x = Conv2D(256, (3,3), padding='SAME', activation='relu')(x)\n",
        "  x = Conv2D(256, (3,3), padding='SAME', activation='relu')(x)\n",
        "  x = GlobalAveragePooling2D()(x)\n",
        "\n",
        "  x = Dense(1024, activation='relu')(x)\n",
        "  x = Dropout(0.25)(x)\n",
        "  y = Dense(10, activation='softmax')(x)\n",
        "\n",
        "  model = Model(inputs, y)\n",
        "\n",
        "  model.compile(optimizer=tf.keras.optimizers.Adam(),\n",
        "              loss='categorical_crossentropy',\n",
        "              metrics=['accuracy'])\n",
        "\n",
        "  return model\n",
        "\n",
        "model = build_model()\n",
        "\n",
        "model.summary()"
      ]
    },
    {
      "cell_type": "markdown",
      "metadata": {
        "id": "gwFlvnrDbH7N"
      },
      "source": [
        "### 学習の実行"
      ]
    },
    {
      "cell_type": "code",
      "execution_count": 5,
      "metadata": {
        "colab": {
          "base_uri": "https://localhost:8080/"
        },
        "id": "iRnFClSCnKP-",
        "outputId": "f75e7c23-9482-400f-ff80-90c138b14d67"
      },
      "outputs": [
        {
          "name": "stdout",
          "output_type": "stream",
          "text": [
            "Train on 50000 samples, validate on 10000 samples\n"
          ]
        },
        {
          "name": "stderr",
          "output_type": "stream",
          "text": [
            "2021-12-16 03:05:55.190384: I tensorflow/core/platform/cpu_feature_guard.cc:142] This TensorFlow binary is optimized with oneAPI Deep Neural Network Library (oneDNN) to use the following CPU instructions in performance-critical operations:  AVX2 FMA\n",
            "To enable them in other operations, rebuild TensorFlow with the appropriate compiler flags.\n"
          ]
        },
        {
          "name": "stdout",
          "output_type": "stream",
          "text": [
            "Epoch 1/30\n",
            " 8192/50000 [===>..........................] - ETA: 4:20 - loss: 2.2998 - accuracy: 0.1124"
          ]
        },
        {
          "ename": "KeyboardInterrupt",
          "evalue": "",
          "output_type": "error",
          "traceback": [
            "\u001b[0;31m---------------------------------------------------------------------------\u001b[0m",
            "\u001b[0;31mKeyboardInterrupt\u001b[0m                         Traceback (most recent call last)",
            "\u001b[0;32m/var/folders/dv/_837vmqs5yl0tklsbq8k7mdm0000gn/T/ipykernel_3445/545656769.py\u001b[0m in \u001b[0;36m<module>\u001b[0;34m\u001b[0m\n\u001b[1;32m      4\u001b[0m           \u001b[0mepochs\u001b[0m\u001b[0;34m=\u001b[0m\u001b[0;36m30\u001b[0m\u001b[0;34m,\u001b[0m\u001b[0;34m\u001b[0m\u001b[0;34m\u001b[0m\u001b[0m\n\u001b[1;32m      5\u001b[0m           \u001b[0mvalidation_data\u001b[0m\u001b[0;34m=\u001b[0m\u001b[0;34m(\u001b[0m\u001b[0mX_test\u001b[0m\u001b[0;34m,\u001b[0m \u001b[0my_test\u001b[0m\u001b[0;34m)\u001b[0m\u001b[0;34m,\u001b[0m\u001b[0;34m\u001b[0m\u001b[0;34m\u001b[0m\u001b[0m\n\u001b[0;32m----> 6\u001b[0;31m           shuffle=True)\n\u001b[0m",
            "\u001b[0;32m~/opt/anaconda3/envs/k-wta/lib/python3.7/site-packages/keras/engine/training_v1.py\u001b[0m in \u001b[0;36mfit\u001b[0;34m(self, x, y, batch_size, epochs, verbose, callbacks, validation_split, validation_data, shuffle, class_weight, sample_weight, initial_epoch, steps_per_epoch, validation_steps, validation_freq, max_queue_size, workers, use_multiprocessing, **kwargs)\u001b[0m\n\u001b[1;32m    794\u001b[0m         \u001b[0mmax_queue_size\u001b[0m\u001b[0;34m=\u001b[0m\u001b[0mmax_queue_size\u001b[0m\u001b[0;34m,\u001b[0m\u001b[0;34m\u001b[0m\u001b[0;34m\u001b[0m\u001b[0m\n\u001b[1;32m    795\u001b[0m         \u001b[0mworkers\u001b[0m\u001b[0;34m=\u001b[0m\u001b[0mworkers\u001b[0m\u001b[0;34m,\u001b[0m\u001b[0;34m\u001b[0m\u001b[0;34m\u001b[0m\u001b[0m\n\u001b[0;32m--> 796\u001b[0;31m         use_multiprocessing=use_multiprocessing)\n\u001b[0m\u001b[1;32m    797\u001b[0m \u001b[0;34m\u001b[0m\u001b[0m\n\u001b[1;32m    798\u001b[0m   def evaluate(self,\n",
            "\u001b[0;32m~/opt/anaconda3/envs/k-wta/lib/python3.7/site-packages/keras/engine/training_arrays_v1.py\u001b[0m in \u001b[0;36mfit\u001b[0;34m(self, model, x, y, batch_size, epochs, verbose, callbacks, validation_split, validation_data, shuffle, class_weight, sample_weight, initial_epoch, steps_per_epoch, validation_steps, validation_freq, **kwargs)\u001b[0m\n\u001b[1;32m    655\u001b[0m         \u001b[0mvalidation_steps\u001b[0m\u001b[0;34m=\u001b[0m\u001b[0mvalidation_steps\u001b[0m\u001b[0;34m,\u001b[0m\u001b[0;34m\u001b[0m\u001b[0;34m\u001b[0m\u001b[0m\n\u001b[1;32m    656\u001b[0m         \u001b[0mvalidation_freq\u001b[0m\u001b[0;34m=\u001b[0m\u001b[0mvalidation_freq\u001b[0m\u001b[0;34m,\u001b[0m\u001b[0;34m\u001b[0m\u001b[0;34m\u001b[0m\u001b[0m\n\u001b[0;32m--> 657\u001b[0;31m         steps_name='steps_per_epoch')\n\u001b[0m\u001b[1;32m    658\u001b[0m \u001b[0;34m\u001b[0m\u001b[0m\n\u001b[1;32m    659\u001b[0m   def evaluate(self,\n",
            "\u001b[0;32m~/opt/anaconda3/envs/k-wta/lib/python3.7/site-packages/keras/engine/training_arrays_v1.py\u001b[0m in \u001b[0;36mmodel_iteration\u001b[0;34m(model, inputs, targets, sample_weights, batch_size, epochs, verbose, callbacks, val_inputs, val_targets, val_sample_weights, shuffle, initial_epoch, steps_per_epoch, validation_steps, validation_freq, mode, validation_in_fit, prepared_feed_values_from_dataset, steps_name, **kwargs)\u001b[0m\n\u001b[1;32m    374\u001b[0m \u001b[0;34m\u001b[0m\u001b[0m\n\u001b[1;32m    375\u001b[0m         \u001b[0;31m# Get outputs.\u001b[0m\u001b[0;34m\u001b[0m\u001b[0;34m\u001b[0m\u001b[0;34m\u001b[0m\u001b[0m\n\u001b[0;32m--> 376\u001b[0;31m         \u001b[0mbatch_outs\u001b[0m \u001b[0;34m=\u001b[0m \u001b[0mf\u001b[0m\u001b[0;34m(\u001b[0m\u001b[0mins_batch\u001b[0m\u001b[0;34m)\u001b[0m\u001b[0;34m\u001b[0m\u001b[0;34m\u001b[0m\u001b[0m\n\u001b[0m\u001b[1;32m    377\u001b[0m         \u001b[0;32mif\u001b[0m \u001b[0;32mnot\u001b[0m \u001b[0misinstance\u001b[0m\u001b[0;34m(\u001b[0m\u001b[0mbatch_outs\u001b[0m\u001b[0;34m,\u001b[0m \u001b[0mlist\u001b[0m\u001b[0;34m)\u001b[0m\u001b[0;34m:\u001b[0m\u001b[0;34m\u001b[0m\u001b[0;34m\u001b[0m\u001b[0m\n\u001b[1;32m    378\u001b[0m           \u001b[0mbatch_outs\u001b[0m \u001b[0;34m=\u001b[0m \u001b[0;34m[\u001b[0m\u001b[0mbatch_outs\u001b[0m\u001b[0;34m]\u001b[0m\u001b[0;34m\u001b[0m\u001b[0;34m\u001b[0m\u001b[0m\n",
            "\u001b[0;32m~/opt/anaconda3/envs/k-wta/lib/python3.7/site-packages/keras/backend.py\u001b[0m in \u001b[0;36m__call__\u001b[0;34m(self, inputs)\u001b[0m\n\u001b[1;32m   4030\u001b[0m \u001b[0;34m\u001b[0m\u001b[0m\n\u001b[1;32m   4031\u001b[0m     fetched = self._callable_fn(*array_vals,\n\u001b[0;32m-> 4032\u001b[0;31m                                 run_metadata=self.run_metadata)\n\u001b[0m\u001b[1;32m   4033\u001b[0m     \u001b[0mself\u001b[0m\u001b[0;34m.\u001b[0m\u001b[0m_call_fetch_callbacks\u001b[0m\u001b[0;34m(\u001b[0m\u001b[0mfetched\u001b[0m\u001b[0;34m[\u001b[0m\u001b[0;34m-\u001b[0m\u001b[0mlen\u001b[0m\u001b[0;34m(\u001b[0m\u001b[0mself\u001b[0m\u001b[0;34m.\u001b[0m\u001b[0m_fetches\u001b[0m\u001b[0;34m)\u001b[0m\u001b[0;34m:\u001b[0m\u001b[0;34m]\u001b[0m\u001b[0;34m)\u001b[0m\u001b[0;34m\u001b[0m\u001b[0;34m\u001b[0m\u001b[0m\n\u001b[1;32m   4034\u001b[0m     output_structure = tf.nest.pack_sequence_as(\n",
            "\u001b[0;32m~/opt/anaconda3/envs/k-wta/lib/python3.7/site-packages/tensorflow/python/client/session.py\u001b[0m in \u001b[0;36m__call__\u001b[0;34m(self, *args, **kwargs)\u001b[0m\n\u001b[1;32m   1478\u001b[0m         ret = tf_session.TF_SessionRunCallable(self._session._session,\n\u001b[1;32m   1479\u001b[0m                                                \u001b[0mself\u001b[0m\u001b[0;34m.\u001b[0m\u001b[0m_handle\u001b[0m\u001b[0;34m,\u001b[0m \u001b[0margs\u001b[0m\u001b[0;34m,\u001b[0m\u001b[0;34m\u001b[0m\u001b[0;34m\u001b[0m\u001b[0m\n\u001b[0;32m-> 1480\u001b[0;31m                                                run_metadata_ptr)\n\u001b[0m\u001b[1;32m   1481\u001b[0m         \u001b[0;32mif\u001b[0m \u001b[0mrun_metadata\u001b[0m\u001b[0;34m:\u001b[0m\u001b[0;34m\u001b[0m\u001b[0;34m\u001b[0m\u001b[0m\n\u001b[1;32m   1482\u001b[0m           \u001b[0mproto_data\u001b[0m \u001b[0;34m=\u001b[0m \u001b[0mtf_session\u001b[0m\u001b[0;34m.\u001b[0m\u001b[0mTF_GetBuffer\u001b[0m\u001b[0;34m(\u001b[0m\u001b[0mrun_metadata_ptr\u001b[0m\u001b[0;34m)\u001b[0m\u001b[0;34m\u001b[0m\u001b[0;34m\u001b[0m\u001b[0m\n",
            "\u001b[0;31mKeyboardInterrupt\u001b[0m: "
          ]
        }
      ],
      "source": [
        "# 学習の実行。\n",
        "model.fit(X_train, y_train,\n",
        "          batch_size=512,\n",
        "          epochs=30,\n",
        "          validation_data=(X_test, y_test),\n",
        "          shuffle=True)"
      ]
    },
    {
      "cell_type": "markdown",
      "metadata": {
        "id": "l9TbV14fbSGI"
      },
      "source": [
        "### モデルの精度評価"
      ]
    },
    {
      "cell_type": "code",
      "execution_count": null,
      "metadata": {
        "colab": {
          "base_uri": "https://localhost:8080/"
        },
        "id": "S656RWtknM8r",
        "outputId": "c6b978dd-4af5-4436-fa64-fe6432934015"
      },
      "outputs": [
        {
          "data": {
            "text/plain": [
              "[0.6143605302333832, 0.8239]"
            ]
          },
          "execution_count": 7,
          "metadata": {},
          "output_type": "execute_result"
        }
      ],
      "source": [
        "model.evaluate(X_test, y_test)"
      ]
    },
    {
      "cell_type": "markdown",
      "metadata": {
        "id": "HgfPdDe-bY69"
      },
      "source": [
        "## Assistive Signalsの作成"
      ]
    },
    {
      "cell_type": "code",
      "execution_count": null,
      "metadata": {
        "id": "K12B6fnsn1GV"
      },
      "outputs": [],
      "source": [
        "# 入力データの特徴量の最小値・最大値を指定。\n",
        "# 特徴量は0.0～1.0の範囲に収まるように正規化しているため、最小値は0.0、最大値は1.0とする。\n",
        "min_pixel_value = 0.0\n",
        "max_pixel_value = 1.0\n",
        "\n",
        "# モデルをART Keras Classifierでラップ。\n",
        "classifier = KerasClassifier(model=model, clip_values=(min_pixel_value, max_pixel_value), use_logits=False)"
      ]
    },
    {
      "cell_type": "code",
      "execution_count": null,
      "metadata": {
        "colab": {
          "base_uri": "https://localhost:8080/"
        },
        "id": "Z-1z-Rban7-c",
        "outputId": "520d53f8-9f3b-44f7-d330-9f0a526fafb2"
      },
      "outputs": [
        {
          "name": "stderr",
          "output_type": "stream",
          "text": [
            "/usr/local/lib/python3.7/dist-packages/keras/engine/training_v1.py:2079: UserWarning: `Model.state_updates` will be removed in a future version. This property should not be used in TensorFlow 2.0, as `updates` are applied automatically.\n",
            "  updates=self.state_updates,\n"
          ]
        }
      ],
      "source": [
        "# FGSMインスタンスの作成。\n",
        "attack_targeted = FastGradientMethod(estimator=classifier, eps=0.10, targeted=True)\n",
        "# 敵対的サンプルの生成（ベース画像はテストデータとする）。\n",
        "X_test_assistive = attack_targeted.generate(x=X_test, y=y_test)"
      ]
    },
    {
      "cell_type": "markdown",
      "metadata": {
        "id": "iyFSzXUCb--B"
      },
      "source": [
        "## 非標的型攻撃としてのFGSMによる摂動を作成\n",
        "以下、この摂動を上乗せした画像のことを「敵対的画像」と呼ぶ。"
      ]
    },
    {
      "cell_type": "code",
      "execution_count": null,
      "metadata": {
        "id": "kDNDkKvacPJM"
      },
      "outputs": [],
      "source": [
        "attack_notargeted = FastGradientMethod(estimator=classifier, eps=0.10, targeted=False)\n",
        "X_test_adv = attack_notargeted.generate(X_test)"
      ]
    },
    {
      "cell_type": "markdown",
      "metadata": {
        "id": "wqsgeVgpcwoJ"
      },
      "source": [
        "## 敵対的画像に対するモデルの精度評価"
      ]
    },
    {
      "cell_type": "markdown",
      "metadata": {
        "id": "xvdMf1uic4gm"
      },
      "source": [
        "### cleanのみで学習したモデルとAssistive Signals"
      ]
    },
    {
      "cell_type": "code",
      "execution_count": null,
      "metadata": {
        "colab": {
          "base_uri": "https://localhost:8080/"
        },
        "id": "xUGom7UiAfU7",
        "outputId": "64a157da-282c-437c-8866-49d46c7e3446"
      },
      "outputs": [
        {
          "data": {
            "text/plain": [
              "[1.495119759941101, 0.6596]"
            ]
          },
          "execution_count": 11,
          "metadata": {},
          "output_type": "execute_result"
        }
      ],
      "source": [
        "model.evaluate(X_test_assistive, y_test)"
      ]
    },
    {
      "cell_type": "markdown",
      "metadata": {
        "id": "U4uI3wnSdHVg"
      },
      "source": [
        "### cleanのみで学習したモデルと敵対的攻撃画像"
      ]
    },
    {
      "cell_type": "code",
      "execution_count": null,
      "metadata": {
        "colab": {
          "base_uri": "https://localhost:8080/"
        },
        "id": "DNyN037wdPpI",
        "outputId": "3f2e98c5-c6e8-4a43-e3bd-8bbfb573b579"
      },
      "outputs": [
        {
          "data": {
            "text/plain": [
              "[7.404366830444336, 0.0955]"
            ]
          },
          "execution_count": 12,
          "metadata": {},
          "output_type": "execute_result"
        }
      ],
      "source": [
        "model.evaluate(X_test_adv, y_test)"
      ]
    },
    {
      "cell_type": "markdown",
      "metadata": {
        "id": "Di26eA-tBXJA"
      },
      "source": [
        "# Assistive Signals入りの画像のみで学習"
      ]
    },
    {
      "cell_type": "code",
      "execution_count": null,
      "metadata": {
        "id": "mHQnjiboBo09"
      },
      "outputs": [],
      "source": [
        "X_train_assistive = attack_targeted.generate(x=X_train, y=y_train)"
      ]
    },
    {
      "cell_type": "code",
      "execution_count": null,
      "metadata": {
        "id": "xFEzwU8u_782"
      },
      "outputs": [],
      "source": [
        "model2 = build_model()"
      ]
    },
    {
      "cell_type": "code",
      "execution_count": null,
      "metadata": {
        "colab": {
          "base_uri": "https://localhost:8080/"
        },
        "id": "kOsqTJgwBBzN",
        "outputId": "41b8d465-8de8-4d14-8dc5-450e0efdf8e6"
      },
      "outputs": [
        {
          "name": "stdout",
          "output_type": "stream",
          "text": [
            "Train on 50000 samples\n",
            "Epoch 1/30\n",
            "50000/50000 [==============================] - 31s 611us/sample - loss: 2.0327 - accuracy: 0.2237\n",
            "Epoch 2/30\n",
            "50000/50000 [==============================] - 30s 608us/sample - loss: 1.4930 - accuracy: 0.4424\n",
            "Epoch 3/30\n",
            "50000/50000 [==============================] - 30s 607us/sample - loss: 0.9644 - accuracy: 0.6611\n",
            "Epoch 4/30\n",
            "50000/50000 [==============================] - 30s 608us/sample - loss: 0.6036 - accuracy: 0.7965\n",
            "Epoch 5/30\n",
            "50000/50000 [==============================] - 30s 607us/sample - loss: 0.3913 - accuracy: 0.8697\n",
            "Epoch 6/30\n",
            "50000/50000 [==============================] - 30s 607us/sample - loss: 0.2631 - accuracy: 0.9146\n",
            "Epoch 7/30\n",
            "50000/50000 [==============================] - 30s 607us/sample - loss: 0.1904 - accuracy: 0.9364\n",
            "Epoch 8/30\n",
            "50000/50000 [==============================] - 31s 611us/sample - loss: 0.1458 - accuracy: 0.9515\n",
            "Epoch 9/30\n",
            "50000/50000 [==============================] - 31s 616us/sample - loss: 0.1012 - accuracy: 0.9677\n",
            "Epoch 10/30\n",
            "50000/50000 [==============================] - 30s 608us/sample - loss: 0.0958 - accuracy: 0.9691\n",
            "Epoch 11/30\n",
            "50000/50000 [==============================] - 30s 606us/sample - loss: 0.0804 - accuracy: 0.9728\n",
            "Epoch 12/30\n",
            "50000/50000 [==============================] - 30s 606us/sample - loss: 0.0699 - accuracy: 0.9765\n",
            "Epoch 13/30\n",
            "50000/50000 [==============================] - 30s 608us/sample - loss: 0.0579 - accuracy: 0.9805\n",
            "Epoch 14/30\n",
            "50000/50000 [==============================] - 30s 607us/sample - loss: 0.0491 - accuracy: 0.9841\n",
            "Epoch 15/30\n",
            "50000/50000 [==============================] - 30s 608us/sample - loss: 0.0385 - accuracy: 0.9873\n",
            "Epoch 16/30\n",
            "50000/50000 [==============================] - 30s 608us/sample - loss: 0.0387 - accuracy: 0.9872\n",
            "Epoch 17/30\n",
            "50000/50000 [==============================] - 30s 607us/sample - loss: 0.0302 - accuracy: 0.9899\n",
            "Epoch 18/30\n",
            "50000/50000 [==============================] - 30s 608us/sample - loss: 0.0309 - accuracy: 0.9892\n",
            "Epoch 19/30\n",
            "50000/50000 [==============================] - 30s 608us/sample - loss: 0.0327 - accuracy: 0.9887\n",
            "Epoch 20/30\n",
            "50000/50000 [==============================] - 30s 609us/sample - loss: 0.0204 - accuracy: 0.9932\n",
            "Epoch 21/30\n",
            "50000/50000 [==============================] - 30s 608us/sample - loss: 0.0251 - accuracy: 0.9913\n",
            "Epoch 22/30\n",
            "50000/50000 [==============================] - 30s 609us/sample - loss: 0.0175 - accuracy: 0.9942\n",
            "Epoch 23/30\n",
            "50000/50000 [==============================] - 30s 607us/sample - loss: 0.0273 - accuracy: 0.9908\n",
            "Epoch 24/30\n",
            "50000/50000 [==============================] - 30s 607us/sample - loss: 0.0153 - accuracy: 0.9950\n",
            "Epoch 25/30\n",
            "50000/50000 [==============================] - 30s 607us/sample - loss: 0.0175 - accuracy: 0.9942\n",
            "Epoch 26/30\n",
            "50000/50000 [==============================] - 30s 606us/sample - loss: 0.0130 - accuracy: 0.9958\n",
            "Epoch 27/30\n",
            "50000/50000 [==============================] - 30s 608us/sample - loss: 0.0171 - accuracy: 0.9940\n",
            "Epoch 28/30\n",
            "50000/50000 [==============================] - 30s 606us/sample - loss: 0.0184 - accuracy: 0.9940\n",
            "Epoch 29/30\n",
            "50000/50000 [==============================] - 30s 608us/sample - loss: 0.0118 - accuracy: 0.9961\n",
            "Epoch 30/30\n",
            "50000/50000 [==============================] - 30s 607us/sample - loss: 0.0166 - accuracy: 0.9942\n"
          ]
        },
        {
          "data": {
            "text/plain": [
              "<keras.callbacks.History at 0x7fda404a2d50>"
            ]
          },
          "execution_count": 15,
          "metadata": {},
          "output_type": "execute_result"
        }
      ],
      "source": [
        "model2.fit(X_train_assistive, y_train,\n",
        "          batch_size=512,\n",
        "          epochs=30,\n",
        "          shuffle=True)"
      ]
    },
    {
      "cell_type": "code",
      "execution_count": null,
      "metadata": {
        "colab": {
          "base_uri": "https://localhost:8080/"
        },
        "id": "uyodZfX_DlIp",
        "outputId": "c19bcd21-2233-4edc-d656-4fa48598315e"
      },
      "outputs": [
        {
          "name": "stderr",
          "output_type": "stream",
          "text": [
            "/usr/local/lib/python3.7/dist-packages/keras/engine/training_v1.py:2057: UserWarning: `Model.state_updates` will be removed in a future version. This property should not be used in TensorFlow 2.0, as `updates` are applied automatically.\n",
            "  updates = self.state_updates\n"
          ]
        },
        {
          "data": {
            "text/plain": [
              "[0.008268624045625911, 0.99768]"
            ]
          },
          "execution_count": 16,
          "metadata": {},
          "output_type": "execute_result"
        }
      ],
      "source": [
        "# assistive train data\n",
        "model2.evaluate(X_train_assistive, y_train)"
      ]
    },
    {
      "cell_type": "code",
      "execution_count": null,
      "metadata": {
        "colab": {
          "base_uri": "https://localhost:8080/"
        },
        "id": "-KV2DroTBM1P",
        "outputId": "ec343b77-607c-48c2-ba78-8bc431b846a4"
      },
      "outputs": [
        {
          "data": {
            "text/plain": [
              "[2.1281369037628175, 0.5127]"
            ]
          },
          "execution_count": 17,
          "metadata": {},
          "output_type": "execute_result"
        }
      ],
      "source": [
        "# clean test data\n",
        "model2.evaluate(X_test, y_test)"
      ]
    },
    {
      "cell_type": "code",
      "execution_count": null,
      "metadata": {
        "colab": {
          "base_uri": "https://localhost:8080/"
        },
        "id": "hb3J-U5IDkDB",
        "outputId": "8611044c-4636-4f27-8b85-8dc6654e272b"
      },
      "outputs": [
        {
          "data": {
            "text/plain": [
              "[0.11127971088027117, 0.9695]"
            ]
          },
          "execution_count": 18,
          "metadata": {},
          "output_type": "execute_result"
        }
      ],
      "source": [
        "# assistive test data\n",
        "model2.evaluate(X_test_assistive, y_test)"
      ]
    },
    {
      "cell_type": "code",
      "execution_count": null,
      "metadata": {
        "colab": {
          "base_uri": "https://localhost:8080/"
        },
        "id": "JtKzkgQ4eEoz",
        "outputId": "7ac11913-3f0e-4d05-8203-993d2d0e6b21"
      },
      "outputs": [
        {
          "data": {
            "text/plain": [
              "[10.301456629943848, 0.1218]"
            ]
          },
          "execution_count": 19,
          "metadata": {},
          "output_type": "execute_result"
        }
      ],
      "source": [
        "# adversarial test data\n",
        "model2.evaluate(X_test_adv, y_test)"
      ]
    },
    {
      "cell_type": "markdown",
      "metadata": {
        "id": "TqUAgC7nC-Cd"
      },
      "source": [
        "# Assistive Signals入り画像とクリーン画像を5:5で学習"
      ]
    },
    {
      "cell_type": "code",
      "execution_count": null,
      "metadata": {
        "id": "iRQWjymmDL08"
      },
      "outputs": [],
      "source": [
        "X_train_half = list(X_train[:25000])\n",
        "X_train_half.extend(X_train_assistive[25000:])\n",
        "X_train_half = np.array(X_train_half)"
      ]
    },
    {
      "cell_type": "code",
      "execution_count": null,
      "metadata": {
        "id": "vs4t7Z82DDqg"
      },
      "outputs": [],
      "source": [
        "model3 = build_model()"
      ]
    },
    {
      "cell_type": "code",
      "execution_count": null,
      "metadata": {
        "colab": {
          "base_uri": "https://localhost:8080/"
        },
        "id": "1fX8PI-wDMPj",
        "outputId": "61a146b0-cf7f-4ca6-e82e-82df8dc1a0a8"
      },
      "outputs": [
        {
          "name": "stdout",
          "output_type": "stream",
          "text": [
            "Train on 50000 samples\n",
            "Epoch 1/30\n",
            "50000/50000 [==============================] - 30s 600us/sample - loss: 2.1470 - accuracy: 0.1721\n",
            "Epoch 2/30\n",
            "50000/50000 [==============================] - 30s 597us/sample - loss: 1.7743 - accuracy: 0.3291\n",
            "Epoch 3/30\n",
            "50000/50000 [==============================] - 30s 596us/sample - loss: 1.4012 - accuracy: 0.4791\n",
            "Epoch 4/30\n",
            "50000/50000 [==============================] - 30s 596us/sample - loss: 1.1264 - accuracy: 0.5957\n",
            "Epoch 5/30\n",
            "50000/50000 [==============================] - 30s 596us/sample - loss: 0.9157 - accuracy: 0.6784\n",
            "Epoch 6/30\n",
            "50000/50000 [==============================] - 30s 598us/sample - loss: 0.7605 - accuracy: 0.7355\n",
            "Epoch 7/30\n",
            "50000/50000 [==============================] - 30s 598us/sample - loss: 0.6765 - accuracy: 0.7665\n",
            "Epoch 8/30\n",
            "50000/50000 [==============================] - 30s 597us/sample - loss: 0.5899 - accuracy: 0.7951\n",
            "Epoch 9/30\n",
            "50000/50000 [==============================] - 30s 597us/sample - loss: 0.5079 - accuracy: 0.8227\n",
            "Epoch 10/30\n",
            "50000/50000 [==============================] - 30s 598us/sample - loss: 0.4681 - accuracy: 0.8377\n",
            "Epoch 11/30\n",
            "50000/50000 [==============================] - 30s 597us/sample - loss: 0.4229 - accuracy: 0.8526\n",
            "Epoch 12/30\n",
            "50000/50000 [==============================] - 30s 597us/sample - loss: 0.3855 - accuracy: 0.8647\n",
            "Epoch 13/30\n",
            "50000/50000 [==============================] - 30s 598us/sample - loss: 0.3474 - accuracy: 0.8803\n",
            "Epoch 14/30\n",
            "50000/50000 [==============================] - 30s 598us/sample - loss: 0.3259 - accuracy: 0.8876\n",
            "Epoch 15/30\n",
            "50000/50000 [==============================] - 30s 598us/sample - loss: 0.2975 - accuracy: 0.8963\n",
            "Epoch 16/30\n",
            "50000/50000 [==============================] - 30s 597us/sample - loss: 0.2698 - accuracy: 0.9063\n",
            "Epoch 17/30\n",
            " 4608/50000 [=>............................] - ETA: 27s - loss: 0.2224 - accuracy: 0.9243"
          ]
        }
      ],
      "source": [
        "model3.fit(X_train_half, y_train,\n",
        "          batch_size=512,\n",
        "          epochs=30,\n",
        "          shuffle=True)"
      ]
    },
    {
      "cell_type": "code",
      "execution_count": null,
      "metadata": {
        "id": "sz2BJ9aaEcaY"
      },
      "outputs": [],
      "source": [
        "# assistive train data\n",
        "model3.evaluate(X_train_assistive, y_train)"
      ]
    },
    {
      "cell_type": "code",
      "execution_count": null,
      "metadata": {
        "id": "ihKBqJwbEcei"
      },
      "outputs": [],
      "source": [
        "# clean test data\n",
        "model3.evaluate(X_test, y_test)"
      ]
    },
    {
      "cell_type": "code",
      "execution_count": null,
      "metadata": {
        "id": "BgjX9jW_eU9k"
      },
      "outputs": [],
      "source": [
        "# assistive test data\n",
        "model3.evaluate(X_test_assistive, y_test)"
      ]
    },
    {
      "cell_type": "code",
      "execution_count": null,
      "metadata": {
        "id": "XJITztlXNwwj"
      },
      "outputs": [],
      "source": [
        "# adversarial test data\n",
        "model3.evaluate(X_test_adv, y_test)"
      ]
    },
    {
      "cell_type": "markdown",
      "metadata": {
        "id": "Vpo-pmXMqnl5"
      },
      "source": [
        "# 半分のデータ数で学習"
      ]
    },
    {
      "cell_type": "code",
      "execution_count": null,
      "metadata": {
        "id": "uctujt7Ygn4Y"
      },
      "outputs": [],
      "source": [
        "X_train_half = X_train[:25000]\n",
        "y_train_half = y_train[:25000]\n",
        "\n",
        "X_train_assistive_half = X_train_assistive[:25000]"
      ]
    },
    {
      "cell_type": "code",
      "execution_count": null,
      "metadata": {
        "id": "25cP2dU2rs6M"
      },
      "outputs": [],
      "source": [
        "model4_clean = build_model()\n",
        "model4_assistive = build_model()"
      ]
    },
    {
      "cell_type": "code",
      "execution_count": null,
      "metadata": {
        "id": "DBc_NCsdr4pk"
      },
      "outputs": [],
      "source": [
        "model4_clean.fit(x=X_train_half, y=y_train_half,\n",
        "                 epochs=30,\n",
        "                 batch_size=512,\n",
        "                 shuffle=True)"
      ]
    },
    {
      "cell_type": "code",
      "execution_count": null,
      "metadata": {
        "id": "f0tb_l7esMpw"
      },
      "outputs": [],
      "source": [
        "model4_assistive.fit(x=X_train_assistive_half, y=y_train_half,\n",
        "                 epochs=30,\n",
        "                 batch_size=512,\n",
        "                 validation_data=(X_test, y_test),\n",
        "                 shuffle=True)"
      ]
    },
    {
      "cell_type": "code",
      "execution_count": null,
      "metadata": {
        "id": "W8CZSkhasQVm"
      },
      "outputs": [],
      "source": [
        "model4_clean.evaluate(X_test, y_test)"
      ]
    },
    {
      "cell_type": "code",
      "execution_count": null,
      "metadata": {
        "id": "4_IcJjRzsUzs"
      },
      "outputs": [],
      "source": [
        "model4_assistive.evaluate(X_test, y_test)"
      ]
    },
    {
      "cell_type": "code",
      "execution_count": null,
      "metadata": {
        "id": "j6NxLjxlyQrH"
      },
      "outputs": [],
      "source": []
    }
  ],
  "metadata": {
    "accelerator": "GPU",
    "colab": {
      "collapsed_sections": [],
      "name": "Assistive Signals.ipynb",
      "provenance": [],
      "toc_visible": true
    },
    "interpreter": {
      "hash": "5aa4e299e718a6d39d4d8154f846f670538e284e40d1d2724e52f261c2853f3e"
    },
    "kernelspec": {
      "display_name": "Python 3.7.11 64-bit ('k-wta': conda)",
      "name": "python3"
    },
    "language_info": {
      "codemirror_mode": {
        "name": "ipython",
        "version": 3
      },
      "file_extension": ".py",
      "mimetype": "text/x-python",
      "name": "python",
      "nbconvert_exporter": "python",
      "pygments_lexer": "ipython3",
      "version": "3.7.11"
    }
  },
  "nbformat": 4,
  "nbformat_minor": 0
}
